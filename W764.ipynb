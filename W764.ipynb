!wget -O w7x64.sh https://raw.githubusercontent.com/Pearl201/RDP-Win7x64/main/windows7x64gitpod.sh
!chmod +x w7x64.sh
!./w7x64.sh
